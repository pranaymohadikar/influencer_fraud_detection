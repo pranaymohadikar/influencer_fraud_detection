{
 "cells": [
  {
   "cell_type": "code",
   "execution_count": 1,
   "metadata": {},
   "outputs": [],
   "source": [
    "import pandas as pd\n",
    "import numpy as np\n",
    "import matplotlib.pyplot as plt\n",
    "import seaborn as sns"
   ]
  },
  {
   "cell_type": "code",
   "execution_count": 2,
   "metadata": {},
   "outputs": [],
   "source": [
    "df= pd.read_csv(r'E:\\KaaM\\Influencer_Fraud_Detection\\data\\influencer_fraud_detection_synthetic_data.csv')"
   ]
  },
  {
   "cell_type": "code",
   "execution_count": 3,
   "metadata": {},
   "outputs": [
    {
     "data": {
      "text/html": [
       "<div>\n",
       "<style scoped>\n",
       "    .dataframe tbody tr th:only-of-type {\n",
       "        vertical-align: middle;\n",
       "    }\n",
       "\n",
       "    .dataframe tbody tr th {\n",
       "        vertical-align: top;\n",
       "    }\n",
       "\n",
       "    .dataframe thead th {\n",
       "        text-align: right;\n",
       "    }\n",
       "</style>\n",
       "<table border=\"1\" class=\"dataframe\">\n",
       "  <thead>\n",
       "    <tr style=\"text-align: right;\">\n",
       "      <th></th>\n",
       "      <th>influencer_ID</th>\n",
       "      <th>followers</th>\n",
       "      <th>avg_likes</th>\n",
       "      <th>avg_comments</th>\n",
       "    </tr>\n",
       "  </thead>\n",
       "  <tbody>\n",
       "    <tr>\n",
       "      <th>0</th>\n",
       "      <td>inf1</td>\n",
       "      <td>122958</td>\n",
       "      <td>20670</td>\n",
       "      <td>984</td>\n",
       "    </tr>\n",
       "    <tr>\n",
       "      <th>1</th>\n",
       "      <td>inf2</td>\n",
       "      <td>672155</td>\n",
       "      <td>42565</td>\n",
       "      <td>3928</td>\n",
       "    </tr>\n",
       "    <tr>\n",
       "      <th>2</th>\n",
       "      <td>inf3</td>\n",
       "      <td>132932</td>\n",
       "      <td>44797</td>\n",
       "      <td>3920</td>\n",
       "    </tr>\n",
       "    <tr>\n",
       "      <th>3</th>\n",
       "      <td>inf4</td>\n",
       "      <td>366838</td>\n",
       "      <td>8548</td>\n",
       "      <td>1592</td>\n",
       "    </tr>\n",
       "    <tr>\n",
       "      <th>4</th>\n",
       "      <td>inf5</td>\n",
       "      <td>260178</td>\n",
       "      <td>75960</td>\n",
       "      <td>4720</td>\n",
       "    </tr>\n",
       "  </tbody>\n",
       "</table>\n",
       "</div>"
      ],
      "text/plain": [
       "  influencer_ID  followers  avg_likes  avg_comments\n",
       "0          inf1     122958      20670           984\n",
       "1          inf2     672155      42565          3928\n",
       "2          inf3     132932      44797          3920\n",
       "3          inf4     366838       8548          1592\n",
       "4          inf5     260178      75960          4720"
      ]
     },
     "execution_count": 3,
     "metadata": {},
     "output_type": "execute_result"
    }
   ],
   "source": [
    "df.head()"
   ]
  },
  {
   "cell_type": "code",
   "execution_count": 4,
   "metadata": {},
   "outputs": [
    {
     "name": "stdout",
     "output_type": "stream",
     "text": [
      "<class 'pandas.core.frame.DataFrame'>\n",
      "RangeIndex: 100000 entries, 0 to 99999\n",
      "Data columns (total 4 columns):\n",
      " #   Column         Non-Null Count   Dtype \n",
      "---  ------         --------------   ----- \n",
      " 0   influencer_ID  100000 non-null  object\n",
      " 1   followers      100000 non-null  int64 \n",
      " 2   avg_likes      100000 non-null  int64 \n",
      " 3   avg_comments   100000 non-null  int64 \n",
      "dtypes: int64(3), object(1)\n",
      "memory usage: 3.1+ MB\n"
     ]
    }
   ],
   "source": [
    "df.info()"
   ]
  },
  {
   "cell_type": "code",
   "execution_count": 8,
   "metadata": {},
   "outputs": [
    {
     "data": {
      "text/plain": [
       "influencer_ID    0\n",
       "followers        0\n",
       "avg_likes        0\n",
       "avg_comments     0\n",
       "dtype: int64"
      ]
     },
     "execution_count": 8,
     "metadata": {},
     "output_type": "execute_result"
    }
   ],
   "source": [
    "df.isna().sum()"
   ]
  },
  {
   "cell_type": "code",
   "execution_count": 9,
   "metadata": {},
   "outputs": [
    {
     "data": {
      "text/html": [
       "<div>\n",
       "<style scoped>\n",
       "    .dataframe tbody tr th:only-of-type {\n",
       "        vertical-align: middle;\n",
       "    }\n",
       "\n",
       "    .dataframe tbody tr th {\n",
       "        vertical-align: top;\n",
       "    }\n",
       "\n",
       "    .dataframe thead th {\n",
       "        text-align: right;\n",
       "    }\n",
       "</style>\n",
       "<table border=\"1\" class=\"dataframe\">\n",
       "  <thead>\n",
       "    <tr style=\"text-align: right;\">\n",
       "      <th></th>\n",
       "      <th>followers</th>\n",
       "      <th>avg_likes</th>\n",
       "      <th>avg_comments</th>\n",
       "    </tr>\n",
       "  </thead>\n",
       "  <tbody>\n",
       "    <tr>\n",
       "      <th>count</th>\n",
       "      <td>100000.000000</td>\n",
       "      <td>100000.000000</td>\n",
       "      <td>100000.000000</td>\n",
       "    </tr>\n",
       "    <tr>\n",
       "      <th>mean</th>\n",
       "      <td>501102.450790</td>\n",
       "      <td>50005.044140</td>\n",
       "      <td>2502.736820</td>\n",
       "    </tr>\n",
       "    <tr>\n",
       "      <th>std</th>\n",
       "      <td>288606.827848</td>\n",
       "      <td>28849.797323</td>\n",
       "      <td>1440.218834</td>\n",
       "    </tr>\n",
       "    <tr>\n",
       "      <th>min</th>\n",
       "      <td>1005.000000</td>\n",
       "      <td>10.000000</td>\n",
       "      <td>5.000000</td>\n",
       "    </tr>\n",
       "    <tr>\n",
       "      <th>25%</th>\n",
       "      <td>251469.250000</td>\n",
       "      <td>24950.000000</td>\n",
       "      <td>1253.000000</td>\n",
       "    </tr>\n",
       "    <tr>\n",
       "      <th>50%</th>\n",
       "      <td>502077.000000</td>\n",
       "      <td>50101.000000</td>\n",
       "      <td>2502.000000</td>\n",
       "    </tr>\n",
       "    <tr>\n",
       "      <th>75%</th>\n",
       "      <td>751526.250000</td>\n",
       "      <td>75070.000000</td>\n",
       "      <td>3748.000000</td>\n",
       "    </tr>\n",
       "    <tr>\n",
       "      <th>max</th>\n",
       "      <td>999982.000000</td>\n",
       "      <td>99999.000000</td>\n",
       "      <td>4999.000000</td>\n",
       "    </tr>\n",
       "  </tbody>\n",
       "</table>\n",
       "</div>"
      ],
      "text/plain": [
       "           followers      avg_likes   avg_comments\n",
       "count  100000.000000  100000.000000  100000.000000\n",
       "mean   501102.450790   50005.044140    2502.736820\n",
       "std    288606.827848   28849.797323    1440.218834\n",
       "min      1005.000000      10.000000       5.000000\n",
       "25%    251469.250000   24950.000000    1253.000000\n",
       "50%    502077.000000   50101.000000    2502.000000\n",
       "75%    751526.250000   75070.000000    3748.000000\n",
       "max    999982.000000   99999.000000    4999.000000"
      ]
     },
     "execution_count": 9,
     "metadata": {},
     "output_type": "execute_result"
    }
   ],
   "source": [
    "df.describe()"
   ]
  },
  {
   "cell_type": "code",
   "execution_count": 10,
   "metadata": {},
   "outputs": [
    {
     "data": {
      "text/html": [
       "<div>\n",
       "<style scoped>\n",
       "    .dataframe tbody tr th:only-of-type {\n",
       "        vertical-align: middle;\n",
       "    }\n",
       "\n",
       "    .dataframe tbody tr th {\n",
       "        vertical-align: top;\n",
       "    }\n",
       "\n",
       "    .dataframe thead th {\n",
       "        text-align: right;\n",
       "    }\n",
       "</style>\n",
       "<table border=\"1\" class=\"dataframe\">\n",
       "  <thead>\n",
       "    <tr style=\"text-align: right;\">\n",
       "      <th></th>\n",
       "      <th>followers</th>\n",
       "      <th>avg_likes</th>\n",
       "      <th>avg_comments</th>\n",
       "    </tr>\n",
       "  </thead>\n",
       "  <tbody>\n",
       "    <tr>\n",
       "      <th>followers</th>\n",
       "      <td>1.000000</td>\n",
       "      <td>-0.003089</td>\n",
       "      <td>0.000861</td>\n",
       "    </tr>\n",
       "    <tr>\n",
       "      <th>avg_likes</th>\n",
       "      <td>-0.003089</td>\n",
       "      <td>1.000000</td>\n",
       "      <td>-0.002093</td>\n",
       "    </tr>\n",
       "    <tr>\n",
       "      <th>avg_comments</th>\n",
       "      <td>0.000861</td>\n",
       "      <td>-0.002093</td>\n",
       "      <td>1.000000</td>\n",
       "    </tr>\n",
       "  </tbody>\n",
       "</table>\n",
       "</div>"
      ],
      "text/plain": [
       "              followers  avg_likes  avg_comments\n",
       "followers      1.000000  -0.003089      0.000861\n",
       "avg_likes     -0.003089   1.000000     -0.002093\n",
       "avg_comments   0.000861  -0.002093      1.000000"
      ]
     },
     "execution_count": 10,
     "metadata": {},
     "output_type": "execute_result"
    }
   ],
   "source": [
    "df.corr()"
   ]
  },
  {
   "cell_type": "code",
   "execution_count": 14,
   "metadata": {},
   "outputs": [],
   "source": [
    "df['engagement_rate'] = (df['avg_likes']+df['avg_comments'])/df['followers']\n",
    "df['followers_growth_rate'] = np.random.uniform(-0.1,0.5, size = df['followers'].count()) #-10% to 50%\n",
    "df['suspecious_comment_ratio'] = np.random.uniform(0, 0.3, size = df['followers'].count()) #0 to 30%\n",
    "\n",
    "df['fraudulent'] = ((df['engagement_rate'] < 0.1) | (df['suspecious_comment_ratio'] > 0.2)).astype(int)"
   ]
  },
  {
   "cell_type": "code",
   "execution_count": 17,
   "metadata": {},
   "outputs": [
    {
     "data": {
      "text/html": [
       "<div>\n",
       "<style scoped>\n",
       "    .dataframe tbody tr th:only-of-type {\n",
       "        vertical-align: middle;\n",
       "    }\n",
       "\n",
       "    .dataframe tbody tr th {\n",
       "        vertical-align: top;\n",
       "    }\n",
       "\n",
       "    .dataframe thead th {\n",
       "        text-align: right;\n",
       "    }\n",
       "</style>\n",
       "<table border=\"1\" class=\"dataframe\">\n",
       "  <thead>\n",
       "    <tr style=\"text-align: right;\">\n",
       "      <th></th>\n",
       "      <th>influencer_ID</th>\n",
       "      <th>followers</th>\n",
       "      <th>avg_likes</th>\n",
       "      <th>avg_comments</th>\n",
       "      <th>engagement_rate</th>\n",
       "      <th>followers_growth_rate</th>\n",
       "      <th>suspecious_comment_ratio</th>\n",
       "      <th>fraudulent</th>\n",
       "    </tr>\n",
       "  </thead>\n",
       "  <tbody>\n",
       "    <tr>\n",
       "      <th>99990</th>\n",
       "      <td>inf99991</td>\n",
       "      <td>297295</td>\n",
       "      <td>70286</td>\n",
       "      <td>3568</td>\n",
       "      <td>0.248420</td>\n",
       "      <td>0.263057</td>\n",
       "      <td>0.019681</td>\n",
       "      <td>0</td>\n",
       "    </tr>\n",
       "    <tr>\n",
       "      <th>99991</th>\n",
       "      <td>inf99992</td>\n",
       "      <td>502954</td>\n",
       "      <td>52531</td>\n",
       "      <td>3475</td>\n",
       "      <td>0.111354</td>\n",
       "      <td>0.465008</td>\n",
       "      <td>0.095791</td>\n",
       "      <td>0</td>\n",
       "    </tr>\n",
       "    <tr>\n",
       "      <th>99992</th>\n",
       "      <td>inf99993</td>\n",
       "      <td>722394</td>\n",
       "      <td>29556</td>\n",
       "      <td>4435</td>\n",
       "      <td>0.047053</td>\n",
       "      <td>0.436354</td>\n",
       "      <td>0.178050</td>\n",
       "      <td>1</td>\n",
       "    </tr>\n",
       "    <tr>\n",
       "      <th>99993</th>\n",
       "      <td>inf99994</td>\n",
       "      <td>237087</td>\n",
       "      <td>29509</td>\n",
       "      <td>739</td>\n",
       "      <td>0.127582</td>\n",
       "      <td>0.041620</td>\n",
       "      <td>0.206997</td>\n",
       "      <td>1</td>\n",
       "    </tr>\n",
       "    <tr>\n",
       "      <th>99994</th>\n",
       "      <td>inf99995</td>\n",
       "      <td>830032</td>\n",
       "      <td>36398</td>\n",
       "      <td>2284</td>\n",
       "      <td>0.046603</td>\n",
       "      <td>0.254888</td>\n",
       "      <td>0.148614</td>\n",
       "      <td>1</td>\n",
       "    </tr>\n",
       "    <tr>\n",
       "      <th>99995</th>\n",
       "      <td>inf99996</td>\n",
       "      <td>123068</td>\n",
       "      <td>65064</td>\n",
       "      <td>3409</td>\n",
       "      <td>0.556383</td>\n",
       "      <td>0.377237</td>\n",
       "      <td>0.072507</td>\n",
       "      <td>0</td>\n",
       "    </tr>\n",
       "    <tr>\n",
       "      <th>99996</th>\n",
       "      <td>inf99997</td>\n",
       "      <td>494374</td>\n",
       "      <td>56709</td>\n",
       "      <td>2239</td>\n",
       "      <td>0.119238</td>\n",
       "      <td>0.093111</td>\n",
       "      <td>0.276220</td>\n",
       "      <td>1</td>\n",
       "    </tr>\n",
       "    <tr>\n",
       "      <th>99997</th>\n",
       "      <td>inf99998</td>\n",
       "      <td>455809</td>\n",
       "      <td>94530</td>\n",
       "      <td>1463</td>\n",
       "      <td>0.210599</td>\n",
       "      <td>0.089971</td>\n",
       "      <td>0.225307</td>\n",
       "      <td>1</td>\n",
       "    </tr>\n",
       "    <tr>\n",
       "      <th>99998</th>\n",
       "      <td>inf99999</td>\n",
       "      <td>901823</td>\n",
       "      <td>36091</td>\n",
       "      <td>3446</td>\n",
       "      <td>0.043841</td>\n",
       "      <td>0.066977</td>\n",
       "      <td>0.163489</td>\n",
       "      <td>1</td>\n",
       "    </tr>\n",
       "    <tr>\n",
       "      <th>99999</th>\n",
       "      <td>inf100000</td>\n",
       "      <td>821269</td>\n",
       "      <td>39476</td>\n",
       "      <td>489</td>\n",
       "      <td>0.048662</td>\n",
       "      <td>0.467355</td>\n",
       "      <td>0.258644</td>\n",
       "      <td>1</td>\n",
       "    </tr>\n",
       "  </tbody>\n",
       "</table>\n",
       "</div>"
      ],
      "text/plain": [
       "      influencer_ID  followers  avg_likes  avg_comments  engagement_rate  \\\n",
       "99990      inf99991     297295      70286          3568         0.248420   \n",
       "99991      inf99992     502954      52531          3475         0.111354   \n",
       "99992      inf99993     722394      29556          4435         0.047053   \n",
       "99993      inf99994     237087      29509           739         0.127582   \n",
       "99994      inf99995     830032      36398          2284         0.046603   \n",
       "99995      inf99996     123068      65064          3409         0.556383   \n",
       "99996      inf99997     494374      56709          2239         0.119238   \n",
       "99997      inf99998     455809      94530          1463         0.210599   \n",
       "99998      inf99999     901823      36091          3446         0.043841   \n",
       "99999     inf100000     821269      39476           489         0.048662   \n",
       "\n",
       "       followers_growth_rate  suspecious_comment_ratio  fraudulent  \n",
       "99990               0.263057                  0.019681           0  \n",
       "99991               0.465008                  0.095791           0  \n",
       "99992               0.436354                  0.178050           1  \n",
       "99993               0.041620                  0.206997           1  \n",
       "99994               0.254888                  0.148614           1  \n",
       "99995               0.377237                  0.072507           0  \n",
       "99996               0.093111                  0.276220           1  \n",
       "99997               0.089971                  0.225307           1  \n",
       "99998               0.066977                  0.163489           1  \n",
       "99999               0.467355                  0.258644           1  "
      ]
     },
     "execution_count": 17,
     "metadata": {},
     "output_type": "execute_result"
    }
   ],
   "source": [
    "df.tail(10)"
   ]
  },
  {
   "cell_type": "code",
   "execution_count": 22,
   "metadata": {},
   "outputs": [
    {
     "data": {
      "text/plain": [
       "fraudulent\n",
       "0    34846\n",
       "1    65154\n",
       "Name: influencer_ID, dtype: int64"
      ]
     },
     "execution_count": 22,
     "metadata": {},
     "output_type": "execute_result"
    }
   ],
   "source": [
    "df.groupby('fraudulent')['influencer_ID'].count()"
   ]
  },
  {
   "cell_type": "code",
   "execution_count": 23,
   "metadata": {},
   "outputs": [
    {
     "name": "stderr",
     "output_type": "stream",
     "text": [
      "c:\\users\\pranay mohadikar\\appdata\\local\\programs\\python\\python39\\lib\\site-packages\\seaborn\\_decorators.py:36: FutureWarning: Pass the following variable as a keyword arg: x. From version 0.12, the only valid positional argument will be `data`, and passing other arguments without an explicit keyword will result in an error or misinterpretation.\n",
      "  warnings.warn(\n"
     ]
    },
    {
     "data": {
      "text/plain": [
       "<AxesSubplot:xlabel='fraudulent', ylabel='count'>"
      ]
     },
     "execution_count": 23,
     "metadata": {},
     "output_type": "execute_result"
    },
    {
     "data": {
      "image/png": "[encoded data removed]",
      "text/plain": [
       "<Figure size 432x288 with 1 Axes>"
      ]
     },
     "metadata": {
      "needs_background": "light"
     },
     "output_type": "display_data"
    }
   ],
   "source": [
    "sns.countplot(df['fraudulent'])"
   ]
  },
  {
   "cell_type": "code",
   "execution_count": 31,
   "metadata": {},
   "outputs": [
    {
     "data": {
      "text/plain": [
       "<AxesSubplot:xlabel='suspecious_comment_ratio', ylabel='Density'>"
      ]
     },
     "execution_count": 31,
     "metadata": {},
     "output_type": "execute_result"
    },
    {
     "data": {
      "image/png": "[encoded data removed]",
      "text/plain": [
       "<Figure size 432x288 with 1 Axes>"
      ]
     },
     "metadata": {
      "needs_background": "light"
     },
     "output_type": "display_data"
    }
   ],
   "source": [
    "sns.kdeplot(df['suspecious_comment_ratio'])"
   ]
  },
  {
   "cell_type": "code",
   "execution_count": 32,
   "metadata": {},
   "outputs": [
    {
     "data": {
      "text/plain": [
       "<AxesSubplot:>"
      ]
     },
     "execution_count": 32,
     "metadata": {},
     "output_type": "execute_result"
    },
    {
     "data": {
      "image/png": "[encoded data removed]",
      "text/plain": [
       "<Figure size 432x288 with 2 Axes>"
      ]
     },
     "metadata": {
      "needs_background": "light"
     },
     "output_type": "display_data"
    }
   ],
   "source": [
    "sns.heatmap(df.corr())"
   ]
  },
  {
   "cell_type": "code",
   "execution_count": null,
   "metadata": {},
   "outputs": [],
   "source": []
  }
 ],
 "metadata": {
  "kernelspec": {
   "display_name": "Python 3",
   "language": "python",
   "name": "python3"
  },
  "language_info": {
   "codemirror_mode": {
    "name": "ipython",
    "version": 3
   },
   "file_extension": ".py",
   "mimetype": "text/x-python",
   "name": "python",
   "nbconvert_exporter": "python",
   "pygments_lexer": "ipython3",
   "version": "3.9.1"
  }
 },
 "nbformat": 4,
 "nbformat_minor": 4
}
